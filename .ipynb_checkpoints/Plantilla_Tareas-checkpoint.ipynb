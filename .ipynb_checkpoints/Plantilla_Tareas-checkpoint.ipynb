{
 "cells": [
  {
   "cell_type": "markdown",
   "metadata": {},
   "source": [
    "<img style=\"float: left; margin: 30px 15px 15px 15px;\" src=\"https://pngimage.net/wp-content/uploads/2018/06/logo-iteso-png-5.png\" width=\"300\" height=\"500\" /> \n",
    "    \n",
    "    \n",
    "### <font color='navy'> Simulación de procesos financieros. \n",
    "\n",
    "**Nombres:** MICHELLE BRISA VALADEZ TOVAR, LUIS ANTONIO BARRIGA ADAME.\n",
    "\n",
    "**Fecha:** 05 de febrero del 2023.\n",
    "\n",
    "**Expediente** : , 730512.\n",
    "**Profesor:** Oscar David Jaramillo Zuluaga.\n",
    "    \n",
    "**Link Github**: Link con el enlace del repositorio del creador del proyecto\n",
    "\n",
    "# Tarea 2: Clase 4"
   ]
  },
  {
   "cell_type": "markdown",
   "metadata": {},
   "source": [
    "## Enunciado de tarea (Transcibirlo)\n",
    "> Descripción de la tarea:\n",
    "1) Escriba un programa en Python, que devuelve una lista con tuplas de tamaño 2. Cada tupla consiste en el número de pedido y el costo total del pedido. El producto debe aumentarse en 10€ si el valor de la orden es inferior a 100,00 €. Escribe un programa Python usando unicamente las funciones lambda y map.\n",
    "\n",
    "2) Escriba un programa que devuelva una lista de dos tuplas que tengan la información de (número de pedido, cantidad total de pedido). Utilice la función Reduce. Recuerde el precio del pedido del producto debe aumentarse en 10€ si el valor de la orden es inferior a 100,00 €.\n",
    "\n",
    "3) Use filter to eliminate all words that are shorter than 4 letters from a list of words list='the notion of a lambda function goes all the way back to the origin of computer science'\n",
    "\n",
    "4) Use filter to determine the percentage of Fahrenheit temperatures in a list are within the range 32 to 80\n",
    "\n",
    "5) Use reduce to find the lower left corner (minimum x and minimum y value) for a list of point locations"
   ]
  },
  {
   "cell_type": "markdown",
   "metadata": {},
   "source": [
    "### Ejercicio 1: (enunciado) Transcribirlo"
   ]
  },
  {
   "cell_type": "markdown",
   "metadata": {},
   "source": [
    "Código de solución estudiante 1"
   ]
  },
  {
   "cell_type": "code",
   "execution_count": 1,
   "metadata": {},
   "outputs": [
    {
     "data": {
      "text/plain": [
       "[('34587', 163.8),\n",
       " ('98762', 284.0),\n",
       " ('77226', 108.85000000000001),\n",
       " ('88112', 84.97)]"
      ]
     },
     "execution_count": 1,
     "metadata": {},
     "output_type": "execute_result"
    }
   ],
   "source": [
    "# Código de solución estudiante 1\n",
    "import numpy as np\n",
    "import pandas as pd\n",
    "import time,math \n",
    "import matplotlib.pyplot as plt\n",
    "from functools import reduce\n",
    "\n",
    "orders = [ [\"34587\", \"Learning Python, Mark Lutz\", 4, 40.95], \n",
    "           [\"98762\", \"Programming Python, Mark Lutz\", 5, 56.80], \n",
    "           [\"77226\", \"Head First Python, Paul Barry\", 3,32.95],\n",
    "           [\"88112\", \"Einführung in Python3, Bernd Klein\", 3, 24.99]]\n",
    "\n",
    "\n",
    "solucion1= list(map(lambda x:(x[0], x[2] * x[3] + 10) if (x[2] * x[3] ) < 100 else (x[0], x[2] * x[3]), orders))\n",
    "solucion1"
   ]
  },
  {
   "cell_type": "code",
   "execution_count": 27,
   "metadata": {},
   "outputs": [
    {
     "data": {
      "text/plain": [
       "[(1, 678.3299999999999),\n",
       " (2, 494.46000000000004),\n",
       " (3, 364.79999999999995),\n",
       " (4, 492.57)]"
      ]
     },
     "execution_count": 27,
     "metadata": {},
     "output_type": "execute_result"
    }
   ],
   "source": [
    "orders2 = [[1, (\"5464\", 4, 9.99), (\"8274\",18,12.99), (\"9744\", 9, 44.95)], \n",
    "          [2, (\"5464\", 9, 9.99), (\"9744\", 9, 44.95)],\n",
    "          [3, (\"5464\", 9, 9.99), (\"88112\", 11, 24.99)],\n",
    "          [4, (\"8732\", 7, 11.99), (\"7733\",11,18.99), (\"88112\", 5, 39.95)] ]\n",
    "\n",
    "solucion2= list(map(lambda x: (x[0], reduce(lambda y, z: y + z[1] * z[2], x[1:], 0) if reduce(lambda y, z: y + z[1] * z[2], x[1:], 0) >= 100 else reduce(lambda y, z: y + z[1] * z[2], x[1:], 0) + 10), orders2))\n",
    "\n",
    "solucion2"
   ]
  },
  {
   "cell_type": "code",
   "execution_count": 4,
   "metadata": {},
   "outputs": [
    {
     "data": {
      "text/plain": [
       "['notion',\n",
       " 'lambda',\n",
       " 'function',\n",
       " 'goes',\n",
       " 'back',\n",
       " 'origin',\n",
       " 'computer',\n",
       " 'science']"
      ]
     },
     "execution_count": 4,
     "metadata": {},
     "output_type": "execute_result"
    }
   ],
   "source": [
    "# El .split() sirve para dividir la cadena en una lista de palabras.\n",
    "# Se usa len para saber la lingitud de las palabras.\n",
    "\n",
    "problema4= 'the notion of a lambda function goes all the way back to the origin of computer science' .split()\n",
    "solucion4 = list(filter(lambda x: len(x) >=4, problema4))\n",
    "solucion4"
   ]
  },
  {
   "cell_type": "code",
   "execution_count": 10,
   "metadata": {},
   "outputs": [
    {
     "data": {
      "text/plain": [
       "[35.97387961379455,\n",
       " 63.211195349983264,\n",
       " 73.90387696517755,\n",
       " 36.982512376595906,\n",
       " 68.75395211338406,\n",
       " 45.86132066984196,\n",
       " 36.58307493022292,\n",
       " 56.322083650154724,\n",
       " 33.9621930206693,\n",
       " 45.29071317816652,\n",
       " 74.86289938282341,\n",
       " 66.51091382521807,\n",
       " 46.831316244170544,\n",
       " 44.55796498523391]"
      ]
     },
     "execution_count": 10,
     "metadata": {},
     "output_type": "execute_result"
    }
   ],
   "source": [
    "import numpy as np\n",
    "np.random.seed(55555)\n",
    "temperatures = np.random.uniform(25,110,30)\n",
    "#print(temperatures)\n",
    "\n",
    "solucion5= list(filter(lambda x: (x >=32) & (x <=80), temperatures))\n",
    "solucion5"
   ]
  },
  {
   "cell_type": "code",
   "execution_count": 9,
   "metadata": {},
   "outputs": [
    {
     "data": {
      "text/plain": [
       "array([0, 2])"
      ]
     },
     "execution_count": 9,
     "metadata": {},
     "output_type": "execute_result"
    }
   ],
   "source": [
    "np.random.seed(55555)\n",
    "point_xy = np.random.randint(0,100,[30,2])\n",
    "#print(point_xy)\n",
    "\n",
    "solucion6 = np.minimum.reduce(point_xy)\n",
    "solucion6"
   ]
  },
  {
   "cell_type": "markdown",
   "metadata": {},
   "source": [
    "Código de solución estudiante 2"
   ]
  },
  {
   "cell_type": "code",
   "execution_count": null,
   "metadata": {},
   "outputs": [],
   "source": [
    "# Código de solución estudiante 2\n",
    ".\n",
    ".\n",
    ".\n",
    ".\n"
   ]
  },
  {
   "cell_type": "markdown",
   "metadata": {},
   "source": [
    "### Respuesta planteada en el ejercicio usando (markdown)\n",
    " La respuesta es ........."
   ]
  }
 ],
 "metadata": {
  "kernelspec": {
   "display_name": "Python 3",
   "language": "python",
   "name": "python3"
  },
  "language_info": {
   "codemirror_mode": {
    "name": "ipython",
    "version": 3
   },
   "file_extension": ".py",
   "mimetype": "text/x-python",
   "name": "python",
   "nbconvert_exporter": "python",
   "pygments_lexer": "ipython3",
   "version": "3.8.8"
  }
 },
 "nbformat": 4,
 "nbformat_minor": 2
}
